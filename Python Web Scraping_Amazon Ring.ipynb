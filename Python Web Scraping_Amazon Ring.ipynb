{
 "cells": [
  {
   "cell_type": "code",
   "execution_count": 1,
   "id": "6e791de1-d670-4809-a7b0-2b72d7386864",
   "metadata": {},
   "outputs": [],
   "source": [
    "import requests\n",
    "from bs4 import BeautifulSoup\n",
    "import pandas as pd\n",
    "import time\n",
    "import random\n",
    "import re"
   ]
  },
  {
   "cell_type": "code",
   "execution_count": 2,
   "id": "71cb230d-c050-4579-b34b-6b6de89394d4",
   "metadata": {},
   "outputs": [],
   "source": [
    "urls = {\n",
    "    f'page{page}': f'https://www.amazon.com/s?k=diamond+rings&page={page}&ref=sr_pg_{page}'\n",
    "    for page in range(1, 8)\n",
    "}"
   ]
  },
  {
   "cell_type": "code",
   "execution_count": 3,
   "id": "9b8787e8-7b6e-496d-a140-17716a5f162c",
   "metadata": {},
   "outputs": [],
   "source": [
    "headers = {\n",
    "    \"User-Agent\": \"Mozilla/5.0 (Windows NT 10.0; Win64; x64) AppleWebKit/537.36 (KHTML, like Gecko) Chrome/125.0.0.0 Safari/537.36\",\n",
    "    \"Accept-Language\": \"en-US,en;q=0.9\",\n",
    "    \"Accept-Encoding\": \"gzip, deflate, br\",\n",
    "    \"Accept\": \"text/html,application/xhtml+xml,application/xml;q=0.9,image/webp,image/apng,*/*;q=0.8\",\n",
    "    \"Connection\": \"keep-alive\",\n",
    "    \"DNT\": \"1\",\n",
    "    \"Upgrade-Insecure-Requests\": \"1\"\n",
    "}"
   ]
  },
  {
   "cell_type": "code",
   "execution_count": 4,
   "id": "c10f1464-1704-40c9-8be7-1d0799ef4310",
   "metadata": {},
   "outputs": [],
   "source": [
    "session = requests.Session()\n",
    "session.headers.update(headers)"
   ]
  },
  {
   "cell_type": "code",
   "execution_count": 5,
   "id": "10955171-1f8b-4cb4-a8b2-207eb46e4798",
   "metadata": {},
   "outputs": [
    {
     "name": "stdout",
     "output_type": "stream",
     "text": [
      "200\n"
     ]
    }
   ],
   "source": [
    "response = session.get(urls['page1'])\n",
    "print(response.status_code)"
   ]
  },
  {
   "cell_type": "code",
   "execution_count": 6,
   "id": "ab132c3a-1310-4686-8b7c-48dc4de70ec9",
   "metadata": {},
   "outputs": [],
   "source": [
    "# Pattern matching lists\n",
    "design_style = ['toy', 'aluminum balloon', 'cleaner', 'nose ring', 'nose stud', 'silicone rubber', 'silicone rings', 'cake topper', 'tool', 'little girl rhinestone', 'jewelry box', 'pearl napkin',\n",
    "                'decoration', 'glitter', 'engraving', 'party confetti', 'sterling silver necklace', 'adjustable', 'art keychain', 'ring holders', 'silicone', 'tattoos', 'pendant necklace',\n",
    "                '4-prong', 'solitaire', 'anniversary', 'eternity band', 'engagement', 'wedding band', 'eternity', 'promise', 'bridal set ',\n",
    "                'drop', 'flower', 'bezel', 'heart', 'knot', 'twisted stacking', 'infinite', 'natural', 'round & marquise cut',\n",
    "                'initial', 'love', 'criss cross', 'silver cluster', 'gold band', 'hip hop', 'accent cluster', 'accent',\n",
    "                'birthstone', 'ring set', 'sterling silver', 'band ring', 'solid gold', 'swarovski']\n",
    "\n",
    "categories = ['ring']\n",
    "metal_colors = ['10k white gold plated', '10k yellow gold plated', '10k rose gold plated', '10k gold plated',\n",
    "                '14k white gold plated', '14k yellow gold plated', '14k rose gold plated', '14k gold plated',\n",
    "                '18k white gold plated', '18k yellow gold plated', '18k rose gold plated', '18k gold plated',\n",
    "                'white gold plated', 'yellow gold plated', 'rose gold plated', 'gold plated', 'platinum plated', 'gold over sterling silver',\n",
    "                'white gold', 'yellow gold', 'rose gold', 'gold', 'platinum', 'silver', 'rhodium', 'stainless steel']\n",
    "metal_types = ['10k', '14k', '18k', 'pt', '925', 'stainless steel', 'rhodium', 'platinum']\n",
    "stone_types = ['ruby', 'moissanite', 'lab grown diamond', 'lab created diamond', 'simulated diamond', 'cubic zirconia', 'zirconia', 'zircon', 'simulated black diamond',\n",
    "               'black diamond', 'diamond', 'cz', \n",
    "               'birthstone sapphire', 'crystal', 'black agate', 'white opal', 'amethyst', 'jeulia', 'silver wide band']\n",
    "shapes = ['round', 'princess', 'princess-cut', 'emerald', 'oval', 'cushion', 'pear', 'marquise', 'heart', 'radiant']"
   ]
  },
  {
   "cell_type": "code",
   "execution_count": 7,
   "id": "7b63078e-4b78-4fb0-99b0-c582f8283a96",
   "metadata": {},
   "outputs": [],
   "source": [
    "# Extraction function\n",
    "def extract_info(title):\n",
    "    title_lower = title.lower()\n",
    "        \n",
    "    design = next((d for d in design_style if d in title_lower), 'N/A')\n",
    "    category = next((c for c in categories if c in title_lower), 'N/A')\n",
    "    color = next((co for co in metal_colors if co in title_lower), 'N/A')\n",
    "    metal = next((m for m in metal_types if m in title_lower), 'N/A')\n",
    "    stone = next((g for g in stone_types if g in title_lower), 'N/A')\n",
    "    shape = next((s for s in shapes if s in title_lower), 'N/A')\n",
    "\n",
    "    # Brand detection\n",
    "    brand = title.strip().split()[0] if title.strip() else 'N/A'\n",
    "\n",
    "    # Check if the first word is numeric or a code (e.g., 14k, 1.5ct, 1/2ct, etc.)\n",
    "    brand = title.strip().split()[0] if title.strip() else 'N/A'\n",
    "    if re.match(r'^(\\d+|\\d*\\.\\d+|\\d+/\\d+)(ct|ctw|carat|k|kt|mm|pcs|cttwdiamond)?$', brand.lower()):\n",
    "        brand = 'N/A'\n",
    "        \n",
    "\n",
    "     # Carat pattern: range, single value, fractions with units\n",
    "    carat_matches = re.findall(\n",
    "        r'(\\d+(?:\\.\\d+)?(?:/\\d+(?:\\.\\d+)?)?(?:\\s*[-–~to]+\\s*\\d+(?:\\.\\d+)?(?:/\\d+(?:\\.\\d+)?)?)?\\s*(?:ctw|ct|carat|cttw|ctw))',\n",
    "        title_lower\n",
    "    )\n",
    "\n",
    "    carat = \", \".join(dict.fromkeys([m.strip() for m in carat_matches])) if carat_matches else \"N/A\"\n",
    "\n",
    "    return brand, design, category, color, metal, stone, shape, carat\n",
    "\n",
    "\n",
    "    \n",
    "    # Carat range detection\n",
    "    #carat_range = re.search(r'(\\d+(?:\\.\\d+)?|\\d+/\\d+)\\s*(ctw|ct|carat)?[\\s\\-–to]+(\\d+(?:\\.\\d+)?|\\d+/\\d+)\\s*(ctw|ct|carat)?', title_lower)\n",
    "    #if carat_range:\n",
    "        #range_str = f\"{carat_range.group(1)} to {carat_range.group(3)}\"\n",
    "        #return brand, design, category, color, metal, stone, shape, range_str\n",
    "\n",
    "    # Carat individual values\n",
    "    #matches = re.findall(r'(?:(\\d+)\\s*x\\s*)?(\\d+(?:\\.\\d+)?|\\d+/\\d+)\\s*(ctw|ct|carat)', title_lower)\n",
    "    #carat_values = []\n",
    "    #for qty, val, _ in matches:\n",
    "        #carat_values.append(f\"{qty} x {val}\" if qty else val)\n",
    "\n",
    "    #carat = \", \".join(carat_values) if carat_values else 'N/A'\n",
    "    #return brand, design, category, color, metal, stone, shape, carat\n"
   ]
  },
  {
   "cell_type": "code",
   "execution_count": 8,
   "id": "971cd320-025d-40e4-aeaa-f1a728702b9c",
   "metadata": {},
   "outputs": [],
   "source": [
    "# List to store product data\n",
    "products = []"
   ]
  },
  {
   "cell_type": "code",
   "execution_count": 9,
   "id": "c2e5698f-2a17-4cbf-a87f-66acde401189",
   "metadata": {},
   "outputs": [
    {
     "name": "stdout",
     "output_type": "stream",
     "text": [
      "Scraping page1 - Status: 200\n",
      "Scraping page2 - Status: 200\n",
      "Scraping page3 - Status: 200\n",
      "Scraping page4 - Status: 200\n",
      "Scraping page5 - Status: 200\n",
      "Scraping page6 - Status: 200\n",
      "Scraping page7 - Status: 200\n"
     ]
    }
   ],
   "source": [
    "# Scrape each page\n",
    "for page, url in urls.items():\n",
    "    try:\n",
    "        res = session.get(url)\n",
    "        print(f\"Scraping {page} - Status: {res.status_code}\")\n",
    "        soup = BeautifulSoup(res.content, \"html.parser\")\n",
    "\n",
    "        for item in soup.select(\".s-main-slot .s-result-item\"):\n",
    "            asin = item.get(\"data-asin\", \"N/A\")\n",
    "            title_tag = item.select_one(\"h2 span\")\n",
    "            price_tag = item.select_one(\".a-price .a-offscreen\")\n",
    "            star_rating_tag = item.select_one(\".a-icon-alt\")\n",
    "            global_rating_tag = item.select_one(\".a-size-base.s-underline-text\")\n",
    "            image_elem = item.select_one(\"img.s-image\")\n",
    "\n",
    "            title = title_tag.get_text(strip=True) if title_tag else \"N/A\"\n",
    "            price = price_tag.get_text(strip=True).replace('$', '') if price_tag else \"N/A\"\n",
    "            star_rating = star_rating_tag.get_text(strip=True).split(' out')[0] if star_rating_tag else \"N/A\"\n",
    "            global_rating = global_rating_tag.get_text(strip=True) if global_rating_tag else \"N/A\"\n",
    "            image_url = image_elem['src'] if image_elem and 'src' in image_elem.attrs else \"N/A\"\n",
    "            product_url = f\"https://www.amazon.com/dp/{asin}\" if asin != \"N/A\" else \"N/A\"\n",
    "\n",
    "            brand, design, category, color, metal, stone, shape, carat = extract_info(title)\n",
    "\n",
    "            products.append({\n",
    "                \"ASIN\": asin,\n",
    "                \"Title\": title,\n",
    "                \"Brand Name\": brand,\n",
    "                \"Design Style\": design,\n",
    "                \"Category\": category,\n",
    "                \"Metal Color\": color,\n",
    "                \"Metal Type\": metal,\n",
    "                \"Stone Type\": stone,\n",
    "                \"Stone Shape\": shape,\n",
    "                \"Carat\": carat,\n",
    "                \"Price\": price,\n",
    "                \"Star Rating\": star_rating,\n",
    "                \"Global Rating\": global_rating,\n",
    "                \"Image URL\": image_url,\n",
    "                \"Product URL\": product_url\n",
    "            })\n",
    "\n",
    "\n",
    "        time.sleep(random.uniform(1, 2))\n",
    "\n",
    "    except Exception as e:\n",
    "        print(f\"Error scraping {page}: {e}\")\n",
    "        continue"
   ]
  },
  {
   "cell_type": "code",
   "execution_count": 10,
   "id": "5acc6dd1-efcd-410e-ad34-c5e88d79a4f0",
   "metadata": {},
   "outputs": [
    {
     "name": "stdout",
     "output_type": "stream",
     "text": [
      "         ASIN                                              Title Brand Name  \\\n",
      "0                                                            N/A        N/A   \n",
      "1  B09L4KQ2BZ  FRIENDLY DIAMONDS Lab Grown Diamond Ring For W...   FRIENDLY   \n",
      "2  B0DQ2GPS8M  Le Vian 3/4 or 1 1/2 Carat Chocolate Diamond H...         Le   \n",
      "3  B0DWHNT11Q  IGI Certified 2 1/2 Carat Emerald Cut Lab Grow...        IGI   \n",
      "4  B0DK495YMS  IGI Certified 3 1/4 Carat Oval Lab Grown Diamo...        IGI   \n",
      "\n",
      "  Design Style Category Metal Color Metal Type         Stone Type Stone Shape  \\\n",
      "0          N/A      N/A         N/A        N/A                N/A         N/A   \n",
      "1    solitaire     ring  white gold        14k  lab grown diamond         N/A   \n",
      "2  anniversary     ring  white gold        14k            diamond       heart   \n",
      "3  anniversary     ring  white gold        14k  lab grown diamond     emerald   \n",
      "4  anniversary     ring  white gold        14k  lab grown diamond        oval   \n",
      "\n",
      "                Carat     Price Star Rating Global Rating  \\\n",
      "0                 N/A       N/A         N/A           N/A   \n",
      "1          0.50 carat    890.00         5.0             2   \n",
      "2           1/2 carat  5,999.00         N/A           N/A   \n",
      "3   1/2 carat, 2.5 ct  2,499.00         N/A           N/A   \n",
      "4  1/4 carat, 3.29 ct  2,499.00         N/A           N/A   \n",
      "\n",
      "                                           Image URL  \\\n",
      "0                                                N/A   \n",
      "1  https://m.media-amazon.com/images/I/51+7GgG9Xt...   \n",
      "2  https://m.media-amazon.com/images/I/61gT7fNMj0...   \n",
      "3  https://m.media-amazon.com/images/I/81dY5HvPZ5...   \n",
      "4  https://m.media-amazon.com/images/I/71B9on3J5X...   \n",
      "\n",
      "                            Product URL  \n",
      "0            https://www.amazon.com/dp/  \n",
      "1  https://www.amazon.com/dp/B09L4KQ2BZ  \n",
      "2  https://www.amazon.com/dp/B0DQ2GPS8M  \n",
      "3  https://www.amazon.com/dp/B0DWHNT11Q  \n",
      "4  https://www.amazon.com/dp/B0DK495YMS  \n"
     ]
    }
   ],
   "source": [
    "# Optional: Convert to DataFrame\n",
    "df = pd.DataFrame(products)\n",
    "print(df.head())"
   ]
  },
  {
   "cell_type": "code",
   "execution_count": 11,
   "id": "6d7fd0f8-e23d-4ae4-b23e-ed27180a8a53",
   "metadata": {},
   "outputs": [],
   "source": [
    "# 1. Drop rows without a Title\n",
    "df.columns = df.columns.str.strip()  # Clean column names\n",
    "df_cleaned = df.dropna(subset=[\"Title\"]).copy()\n",
    "\n",
    "# 2. Fill missing values in feature columns with 'Unknown'\n",
    "feature_cols = [\"Design Style\", \"Category\", \"Metal Color\", \"Metal Type\", \"Stone Type\", \"Stone Shape\"]\n",
    "df_cleaned[feature_cols] = df_cleaned[feature_cols].fillna(\"Unknown\")\n",
    "\n",
    "# Combine Metal Type and Metal Color into a new column called 'Metal Info'\n",
    "df_cleaned[\"Metal Info\"] = df_cleaned[\"Metal Type\"] + \" / \" + df_cleaned[\"Metal Color\"]\n",
    "\n",
    "# 3. Clean and convert 'Price' to float\n",
    "df_cleaned[\"Price\"] = df_cleaned[\"Price\"].replace(r\"[^\\d.]\", \"\", regex=True)\n",
    "df_cleaned[\"Price\"] = pd.to_numeric(df_cleaned[\"Price\"], errors=\"coerce\")\n",
    "usd_to_hkd_rate = 7.8\n",
    "df_cleaned[\"Price_HKD\"] = (df_cleaned[\"Price\"] * usd_to_hkd_rate).round(2)\n",
    "\n",
    "# 4. Extract numeric 'Star Rating'\n",
    "df_cleaned[\"Star Rating\"] = df_cleaned[\"Star Rating\"].str.extract(r\"(\\d+(\\.\\d+)?)\")[0]\n",
    "df_cleaned[\"Star Rating\"] = pd.to_numeric(df_cleaned[\"Star Rating\"], errors=\"coerce\")\n",
    "\n",
    "# 5. Clean and convert 'Global Rating'\n",
    "df_cleaned[\"Global Rating\"] = df_cleaned[\"Global Rating\"].str.replace(\",\", \"\")\n",
    "df_cleaned[\"Global Rating\"] = pd.to_numeric(df_cleaned[\"Global Rating\"], errors=\"coerce\")\n",
    "\n",
    "#6. Clean and convert 'carat'\n",
    "df_cleaned[\"Carat\"] = df_cleaned[\"Carat\"].apply(lambda x: f'=\"{x}\"' if isinstance(x, str) and '/' in x else x)"
   ]
  },
  {
   "cell_type": "code",
   "execution_count": 12,
   "id": "fc2ce59a-9c74-4538-b829-096ea10fe0ea",
   "metadata": {},
   "outputs": [],
   "source": [
    "# Save cleaned dataset\n",
    "df_cleaned.to_csv(\"amazon_ring_new.csv\", index=False)"
   ]
  },
  {
   "cell_type": "code",
   "execution_count": null,
   "id": "60fdb18a-77ed-4645-8b79-0521cd22cb74",
   "metadata": {},
   "outputs": [],
   "source": []
  }
 ],
 "metadata": {
  "kernelspec": {
   "display_name": "Python 3 (ipykernel)",
   "language": "python",
   "name": "python3"
  },
  "language_info": {
   "codemirror_mode": {
    "name": "ipython",
    "version": 3
   },
   "file_extension": ".py",
   "mimetype": "text/x-python",
   "name": "python",
   "nbconvert_exporter": "python",
   "pygments_lexer": "ipython3",
   "version": "3.13.3"
  }
 },
 "nbformat": 4,
 "nbformat_minor": 5
}
